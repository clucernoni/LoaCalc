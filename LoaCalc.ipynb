{
 "cells": [
  {
   "cell_type": "code",
   "execution_count": 36,
   "metadata": {
    "cocalc": {
     "outputs": {
      "0": {
       "name": "input",
       "opts": {
        "password": false,
        "prompt": "LOA Begin Date (mm/dd/yy):"
       },
       "output_type": "stream",
       "value": "1/1/17"
      },
      "1": {
       "name": "input",
       "opts": {
        "password": false,
        "prompt": "LOA End Date, leave blank if none (mm/dd/yy):"
       },
       "output_type": "stream",
       "value": "6/1/17"
      }
     }
    },
    "collapsed": false
   },
   "outputs": [
    {
     "name": "stdout",
     "output_type": "stream",
     "text": "LOA Begin Date (mm/dd/yy): 1/1/17"
    },
    {
     "name": "stdout",
     "output_type": "stream",
     "text": "LOA End Date, leave blank if none (mm/dd/yy): 6/1/17"
    },
    {
     "data": {
      "text/plain": [
       "100"
      ]
     },
     "execution_count": 36,
     "metadata": {
     },
     "output_type": "execute_result"
    }
   ],
   "source": [
    "import datetime\n",
    "from dateutil.relativedelta import relativedelta\n",
    "\n",
    "begin = input('LOA Begin Date (mm/dd/yy):')\n",
    "end = input('LOA End Date, leave blank if none (mm/dd/yy):')\n",
    "\n",
    "isRegaining = False\n",
    "daysAllowed = 150\n",
    "daysToRegain = 0\n",
    "currentDate = datetime.datetime.now()#.strptime('2/1/18', '%m/%d/%y')\n",
    "try:\n",
    "    loaBeginDate = datetime.datetime.strptime(begin, '%m/%d/%y')\n",
    "    loaEndDate = None\n",
    "    if end != '':\n",
    "        loaEndDate = datetime.datetime.strptime(end, '%m/%d/%y')\n",
    "except:\n",
    "    print('ERROR: One of the input dates is not in the correct format.')\n",
    "calcDate = currentDate\n",
    "\n",
    "if currentDate > loaBeginDate + relativedelta(years=1):\n",
    "    isRegaining = True\n",
    "if loaEndDate is not None:\n",
    "    calcDate = loaEndDate\n",
    "\n",
    "leaveDaysRemaining = 150 - (calcDate - loaBeginDate).days\n",
    "if isRegaining is True:\n",
    "    daysToRegain = (currentDate - (loaBeginDate + relativedelta(years=1))).days\n",
    "    if daysToRegain > 150:\n",
    "        daysToRegain = 150\n",
    "leaveDaysRemaining = leaveDaysRemaining + daysToRegain\n",
    "leaveDaysRemaining"
   ]
  },
  {
   "cell_type": "code",
   "execution_count": 0,
   "metadata": {
    "collapsed": false
   },
   "outputs": [
   ],
   "source": [
   ]
  },
  {
   "cell_type": "code",
   "execution_count": 0,
   "metadata": {
    "collapsed": false
   },
   "outputs": [
   ],
   "source": [
   ]
  }
 ],
 "metadata": {
  "kernelspec": {
   "display_name": "Python 3 (Anaconda)",
   "language": "python",
   "name": "anaconda3"
  },
  "language_info": {
   "codemirror_mode": {
    "name": "ipython",
    "version": 3
   },
   "file_extension": ".py",
   "mimetype": "text/x-python",
   "name": "python",
   "nbconvert_exporter": "python",
   "pygments_lexer": "ipython3",
   "version": "3.5.5"
  }
 },
 "nbformat": 4,
 "nbformat_minor": 0
}